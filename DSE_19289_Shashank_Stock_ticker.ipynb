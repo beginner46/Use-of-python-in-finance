{
 "cells": [
  {
   "cell_type": "markdown",
   "id": "0b52d05a",
   "metadata": {},
   "source": [
    "Name - Shashank Singh\n",
    "Roll number - 19289\n",
    "Department - Data Science Engineering"
   ]
  },
  {
   "cell_type": "markdown",
   "id": "dd29de8a",
   "metadata": {},
   "source": [
    "1. Adding the required libraries to the environment "
   ]
  },
  {
   "cell_type": "code",
   "execution_count": 1,
   "id": "a80f9ae6",
   "metadata": {},
   "outputs": [],
   "source": [
    "#pip install dash"
   ]
  },
  {
   "cell_type": "code",
   "execution_count": 2,
   "id": "b528bb3d",
   "metadata": {},
   "outputs": [],
   "source": [
    "#pip install flask"
   ]
  },
  {
   "cell_type": "code",
   "execution_count": 3,
   "id": "f1729c2e",
   "metadata": {},
   "outputs": [],
   "source": [
    "#pip install dash-bootstrap-components"
   ]
  },
  {
   "cell_type": "code",
   "execution_count": 4,
   "id": "636ffe48",
   "metadata": {},
   "outputs": [],
   "source": [
    "#pip install alpha-vantage"
   ]
  },
  {
   "cell_type": "markdown",
   "id": "9ebce79c",
   "metadata": {},
   "source": [
    "Importing the required libraries"
   ]
  },
  {
   "cell_type": "code",
   "execution_count": 5,
   "id": "8efce5fa",
   "metadata": {},
   "outputs": [],
   "source": [
    "import flask\n",
    "import dash                                # pip install dash\n",
    "from dash import dcc\n",
    "from dash import html\n",
    "from dash.dependencies import Input, Output, State\n",
    "import dash_bootstrap_components as dbc    # pip install dash-bootstrap-components\n",
    "import pandas as pd\n",
    "import plotly.express as px\n",
    "import plotly.graph_objects as go\n",
    "from alpha_vantage.timeseries import TimeSeries"
   ]
  },
  {
   "cell_type": "markdown",
   "id": "86825837",
   "metadata": {},
   "source": [
    "2. This shell needs to be run only once, to obtain the dataframe in the CSV format from the API."
   ]
  },
  {
   "cell_type": "code",
   "execution_count": 6,
   "id": "eaa5f53b",
   "metadata": {},
   "outputs": [],
   "source": [
    "# -------------------------------------------------------------------------------\n",
    "# Set up initial key and financial category\n",
    "\n",
    "# key = '9UG6E9D0IU0ZWCYK' # Using the key obtained for acessing the alpha vantage API. \n",
    "\n",
    "# # # Choosing pandas as the output format\n",
    "\n",
    "# ts = TimeSeries(key, output_format='pandas') # 'pandas'\n",
    "# aapl_data, aapl_meta_data = ts.get_intraday(symbol='AAPL',interval='1min', outputsize='compact') #picking up the data of share price for Apple inc.\n",
    "# df = aapl_data.copy()\n",
    "# df=df.transpose()\n",
    "# df.rename(index={\"1. open\":\"open\", \"2. high\":\"high\", \"3. low\":\"low\",\n",
    "#                  \"4. close\":\"close\",\"5. volume\":\"volume\"},inplace=True)\n",
    "# df=df.reset_index().rename(columns={'index': 'indicator'})\n",
    "# df = pd.melt(df,id_vars=['indicator'],var_name='date',value_name='rate')\n",
    "# df = df[df['indicator']!='volume']\n",
    "# print(df.head(10))\n",
    "\n",
    "\n",
    "# df.to_csv(\"data2.csv\", index=False) #data2 shall represent the data obtained from the API\n",
    "# exit()\n",
    "\n",
    "#this needs to run only once to extract the data from the API in the CSV format"
   ]
  },
  {
   "cell_type": "markdown",
   "id": "b0f8ab6f",
   "metadata": {},
   "source": [
    "3. Looking at the data."
   ]
  },
  {
   "cell_type": "code",
   "execution_count": 7,
   "id": "786b10d7",
   "metadata": {},
   "outputs": [],
   "source": [
    "dff = pd.read_csv(\"data2.csv\")\n",
    "dff = dff[dff.indicator.isin(['high'])] #Taking only the 'high' values from the dataset"
   ]
  },
  {
   "cell_type": "code",
   "execution_count": 8,
   "id": "dfb226ae",
   "metadata": {},
   "outputs": [
    {
     "data": {
      "text/html": [
       "<div>\n",
       "<style scoped>\n",
       "    .dataframe tbody tr th:only-of-type {\n",
       "        vertical-align: middle;\n",
       "    }\n",
       "\n",
       "    .dataframe tbody tr th {\n",
       "        vertical-align: top;\n",
       "    }\n",
       "\n",
       "    .dataframe thead th {\n",
       "        text-align: right;\n",
       "    }\n",
       "</style>\n",
       "<table border=\"1\" class=\"dataframe\">\n",
       "  <thead>\n",
       "    <tr style=\"text-align: right;\">\n",
       "      <th></th>\n",
       "      <th>indicator</th>\n",
       "      <th>date</th>\n",
       "      <th>rate</th>\n",
       "    </tr>\n",
       "  </thead>\n",
       "  <tbody>\n",
       "    <tr>\n",
       "      <th>1</th>\n",
       "      <td>high</td>\n",
       "      <td>2021-12-03 20:00:00</td>\n",
       "      <td>161.34</td>\n",
       "    </tr>\n",
       "    <tr>\n",
       "      <th>5</th>\n",
       "      <td>high</td>\n",
       "      <td>2021-12-03 19:59:00</td>\n",
       "      <td>161.35</td>\n",
       "    </tr>\n",
       "    <tr>\n",
       "      <th>9</th>\n",
       "      <td>high</td>\n",
       "      <td>2021-12-03 19:58:00</td>\n",
       "      <td>161.32</td>\n",
       "    </tr>\n",
       "    <tr>\n",
       "      <th>13</th>\n",
       "      <td>high</td>\n",
       "      <td>2021-12-03 19:57:00</td>\n",
       "      <td>161.40</td>\n",
       "    </tr>\n",
       "    <tr>\n",
       "      <th>17</th>\n",
       "      <td>high</td>\n",
       "      <td>2021-12-03 19:56:00</td>\n",
       "      <td>161.43</td>\n",
       "    </tr>\n",
       "  </tbody>\n",
       "</table>\n",
       "</div>"
      ],
      "text/plain": [
       "   indicator                 date    rate\n",
       "1       high  2021-12-03 20:00:00  161.34\n",
       "5       high  2021-12-03 19:59:00  161.35\n",
       "9       high  2021-12-03 19:58:00  161.32\n",
       "13      high  2021-12-03 19:57:00  161.40\n",
       "17      high  2021-12-03 19:56:00  161.43"
      ]
     },
     "execution_count": 8,
     "metadata": {},
     "output_type": "execute_result"
    }
   ],
   "source": [
    "dff.head() #peeking into the dataset"
   ]
  },
  {
   "cell_type": "markdown",
   "id": "bf658ea5",
   "metadata": {},
   "source": [
    "4. Building the dashboard.\n",
    "\n",
    "The layout of the dashboard will be in the form of a card that will have 5 Rows and maximum two column each."
   ]
  },
  {
   "cell_type": "code",
   "execution_count": 9,
   "id": "00a6f65d",
   "metadata": {
    "scrolled": true
   },
   "outputs": [],
   "source": [
    "app = dash.Dash(__name__, external_stylesheets=[dbc.themes.BOOTSTRAP],\n",
    "                meta_tags=[{'name': 'viewport',\n",
    "                            'content': 'width=device-width, initial-scale=1.0'}]\n",
    "                )\n",
    "\n",
    "\n",
    "app.layout = dbc.Container([\n",
    "    dbc.Row([\n",
    "        dbc.Col([\n",
    "            dbc.Card(\n",
    "                [\n",
    "                    dbc.CardImg(\n",
    "                        src=\"/assets/logo.png\",\n",
    "                        top=True,\n",
    "                        style={\"width\": \"8rem\"},\n",
    "                        className=\"ml-3\"),\n",
    "                    dbc.CardBody([\n",
    "                        \n",
    "                        #Row 1\n",
    "                        ##this row will have the name of the stock.\n",
    "                        \n",
    "                        dbc.Row([\n",
    "                            dbc.Col([\n",
    "                                html.P(\"AAPL\", className=\"ml-3\")\n",
    "                            ],width={'size':5, 'offset':1}),\n",
    "\n",
    "                        ]),\n",
    "                        \n",
    "                        #Row 2\n",
    "                        ##this row will indicate the change in stock price\n",
    "                        \n",
    "                        dbc.Row([\n",
    "                            dbc.Col([\n",
    "                                html.P(\"CHANGE (1D)\", className=\"ml-3\")\n",
    "                            ],width={'size':5, 'offset':1}),\n",
    "\n",
    "                            dbc.Col([\n",
    "                                dcc.Graph(id='indicator-graph', figure={},\n",
    "                                          config={'displayModeBar':False},\n",
    "                                          )\n",
    "                            ], width={'size':3,'offset':2})\n",
    "                        ]),\n",
    "                        \n",
    "                        #Row 3\n",
    "                        #this row shall have the plot for the variation in price.\n",
    "\n",
    "                        dbc.Row([\n",
    "                            dbc.Col([\n",
    "                                dcc.Graph(id='daily-line', figure={},\n",
    "                                          config={'displayModeBar':False})\n",
    "                            ], width=12)\n",
    "                        ]),\n",
    "\n",
    "                        #Row 4\n",
    "                        #This row will have the buttons with the buy and sell option.\n",
    "                        \n",
    "                        dbc.Row([\n",
    "                            dbc.Col([\n",
    "                                dbc.Button(\"SELL\", className=\"ml-5\"),\n",
    "                            ], width=4),\n",
    "\n",
    "                            dbc.Col([\n",
    "                                dbc.Button(\"BUY\")\n",
    "                            ], width=4)\n",
    "                        ], justify=\"between\"),\n",
    "                        \n",
    "                        #Row 5\n",
    "                        #This row shall show the current pricing.\n",
    "\n",
    "                        dbc.Row([\n",
    "                            dbc.Col([\n",
    "                                dbc.Label(id='low-price', children=\"12.237\",\n",
    "                                          className=\"mt-2 ml-5 bg-white p-1 border border-primary border-top-0\"),\n",
    "                            ],width=4),\n",
    "                            dbc.Col([\n",
    "                                dbc.Label(id='high-price',\n",
    "                                          className=\"mt-2 bg-white p-1 border border-primary border-top-0\"),\n",
    "                            ], width=4)\n",
    "                        ], justify=\"between\")\n",
    "                    ]),\n",
    "                ],\n",
    "                style={\"width\": \"24rem\"},\n",
    "                className=\"mt-3\"\n",
    "            )\n",
    "        ], width=6)\n",
    "    ], justify='center'),\n",
    "\n",
    "    dcc.Interval(id='update', n_intervals=0, interval=1000*5) #interval used to update the app every 500 seconds\n",
    "])\n"
   ]
  },
  {
   "cell_type": "markdown",
   "id": "bad8f946",
   "metadata": {},
   "source": [
    "5. Adding more features to the dashboard."
   ]
  },
  {
   "cell_type": "code",
   "execution_count": 10,
   "id": "629a719e",
   "metadata": {},
   "outputs": [
    {
     "name": "stdout",
     "output_type": "stream",
     "text": [
      "Dash is running on http://127.0.0.1:8000/\n",
      "\n",
      " * Serving Flask app \"__main__\" (lazy loading)\n",
      " * Environment: production\n",
      "\u001b[31m   WARNING: This is a development server. Do not use it in a production deployment.\u001b[0m\n",
      "\u001b[2m   Use a production WSGI server instead.\u001b[0m\n",
      " * Debug mode: off\n"
     ]
    },
    {
     "ename": "OSError",
     "evalue": "[Errno 48] Address already in use",
     "output_type": "error",
     "traceback": [
      "\u001b[0;31m---------------------------------------------------------------------------\u001b[0m",
      "\u001b[0;31mOSError\u001b[0m                                   Traceback (most recent call last)",
      "\u001b[0;32m/var/folders/qy/shwxxy397nb5g154ymhbc9gw0000gn/T/ipykernel_17970/494401965.py\u001b[0m in \u001b[0;36m<module>\u001b[0;34m\u001b[0m\n\u001b[1;32m    103\u001b[0m \u001b[0;34m\u001b[0m\u001b[0m\n\u001b[1;32m    104\u001b[0m \u001b[0;32mif\u001b[0m \u001b[0m__name__\u001b[0m\u001b[0;34m==\u001b[0m\u001b[0;34m'__main__'\u001b[0m\u001b[0;34m:\u001b[0m\u001b[0;34m\u001b[0m\u001b[0;34m\u001b[0m\u001b[0m\n\u001b[0;32m--> 105\u001b[0;31m     \u001b[0mapp\u001b[0m\u001b[0;34m.\u001b[0m\u001b[0mrun_server\u001b[0m\u001b[0;34m(\u001b[0m\u001b[0mdebug\u001b[0m \u001b[0;34m=\u001b[0m \u001b[0;32mFalse\u001b[0m\u001b[0;34m,\u001b[0m \u001b[0mport\u001b[0m\u001b[0;34m=\u001b[0m\u001b[0;36m8000\u001b[0m\u001b[0;34m)\u001b[0m\u001b[0;34m\u001b[0m\u001b[0;34m\u001b[0m\u001b[0m\n\u001b[0m",
      "\u001b[0;32m~/opt/anaconda3/lib/python3.9/site-packages/dash/dash.py\u001b[0m in \u001b[0;36mrun_server\u001b[0;34m(self, host, port, proxy, debug, dev_tools_ui, dev_tools_props_check, dev_tools_serve_dev_bundles, dev_tools_hot_reload, dev_tools_hot_reload_interval, dev_tools_hot_reload_watch_interval, dev_tools_hot_reload_max_retry, dev_tools_silence_routes_logging, dev_tools_prune_errors, **flask_run_options)\u001b[0m\n\u001b[1;32m   2031\u001b[0m                     \u001b[0mextra_files\u001b[0m\u001b[0;34m.\u001b[0m\u001b[0mappend\u001b[0m\u001b[0;34m(\u001b[0m\u001b[0mpath\u001b[0m\u001b[0;34m)\u001b[0m\u001b[0;34m\u001b[0m\u001b[0;34m\u001b[0m\u001b[0m\n\u001b[1;32m   2032\u001b[0m \u001b[0;34m\u001b[0m\u001b[0m\n\u001b[0;32m-> 2033\u001b[0;31m         \u001b[0mself\u001b[0m\u001b[0;34m.\u001b[0m\u001b[0mserver\u001b[0m\u001b[0;34m.\u001b[0m\u001b[0mrun\u001b[0m\u001b[0;34m(\u001b[0m\u001b[0mhost\u001b[0m\u001b[0;34m=\u001b[0m\u001b[0mhost\u001b[0m\u001b[0;34m,\u001b[0m \u001b[0mport\u001b[0m\u001b[0;34m=\u001b[0m\u001b[0mport\u001b[0m\u001b[0;34m,\u001b[0m \u001b[0mdebug\u001b[0m\u001b[0;34m=\u001b[0m\u001b[0mdebug\u001b[0m\u001b[0;34m,\u001b[0m \u001b[0;34m**\u001b[0m\u001b[0mflask_run_options\u001b[0m\u001b[0;34m)\u001b[0m\u001b[0;34m\u001b[0m\u001b[0;34m\u001b[0m\u001b[0m\n\u001b[0m",
      "\u001b[0;32m~/opt/anaconda3/lib/python3.9/site-packages/flask/app.py\u001b[0m in \u001b[0;36mrun\u001b[0;34m(self, host, port, debug, load_dotenv, **options)\u001b[0m\n\u001b[1;32m    988\u001b[0m \u001b[0;34m\u001b[0m\u001b[0m\n\u001b[1;32m    989\u001b[0m         \u001b[0;32mtry\u001b[0m\u001b[0;34m:\u001b[0m\u001b[0;34m\u001b[0m\u001b[0;34m\u001b[0m\u001b[0m\n\u001b[0;32m--> 990\u001b[0;31m             \u001b[0mrun_simple\u001b[0m\u001b[0;34m(\u001b[0m\u001b[0mhost\u001b[0m\u001b[0;34m,\u001b[0m \u001b[0mport\u001b[0m\u001b[0;34m,\u001b[0m \u001b[0mself\u001b[0m\u001b[0;34m,\u001b[0m \u001b[0;34m**\u001b[0m\u001b[0moptions\u001b[0m\u001b[0;34m)\u001b[0m\u001b[0;34m\u001b[0m\u001b[0;34m\u001b[0m\u001b[0m\n\u001b[0m\u001b[1;32m    991\u001b[0m         \u001b[0;32mfinally\u001b[0m\u001b[0;34m:\u001b[0m\u001b[0;34m\u001b[0m\u001b[0;34m\u001b[0m\u001b[0m\n\u001b[1;32m    992\u001b[0m             \u001b[0;31m# reset the first request information if the development server\u001b[0m\u001b[0;34m\u001b[0m\u001b[0;34m\u001b[0m\u001b[0m\n",
      "\u001b[0;32m~/opt/anaconda3/lib/python3.9/site-packages/werkzeug/serving.py\u001b[0m in \u001b[0;36mrun_simple\u001b[0;34m(hostname, port, application, use_reloader, use_debugger, use_evalex, extra_files, exclude_patterns, reloader_interval, reloader_type, threaded, processes, request_handler, static_files, passthrough_errors, ssl_context)\u001b[0m\n\u001b[1;32m   1008\u001b[0m         )\n\u001b[1;32m   1009\u001b[0m     \u001b[0;32melse\u001b[0m\u001b[0;34m:\u001b[0m\u001b[0;34m\u001b[0m\u001b[0;34m\u001b[0m\u001b[0m\n\u001b[0;32m-> 1010\u001b[0;31m         \u001b[0minner\u001b[0m\u001b[0;34m(\u001b[0m\u001b[0;34m)\u001b[0m\u001b[0;34m\u001b[0m\u001b[0;34m\u001b[0m\u001b[0m\n\u001b[0m\u001b[1;32m   1011\u001b[0m \u001b[0;34m\u001b[0m\u001b[0m\n\u001b[1;32m   1012\u001b[0m \u001b[0;34m\u001b[0m\u001b[0m\n",
      "\u001b[0;32m~/opt/anaconda3/lib/python3.9/site-packages/werkzeug/serving.py\u001b[0m in \u001b[0;36minner\u001b[0;34m()\u001b[0m\n\u001b[1;32m    948\u001b[0m         \u001b[0;32mexcept\u001b[0m \u001b[0;34m(\u001b[0m\u001b[0mLookupError\u001b[0m\u001b[0;34m,\u001b[0m \u001b[0mValueError\u001b[0m\u001b[0;34m)\u001b[0m\u001b[0;34m:\u001b[0m\u001b[0;34m\u001b[0m\u001b[0;34m\u001b[0m\u001b[0m\n\u001b[1;32m    949\u001b[0m             \u001b[0mfd\u001b[0m \u001b[0;34m=\u001b[0m \u001b[0;32mNone\u001b[0m\u001b[0;34m\u001b[0m\u001b[0;34m\u001b[0m\u001b[0m\n\u001b[0;32m--> 950\u001b[0;31m         srv = make_server(\n\u001b[0m\u001b[1;32m    951\u001b[0m             \u001b[0mhostname\u001b[0m\u001b[0;34m,\u001b[0m\u001b[0;34m\u001b[0m\u001b[0;34m\u001b[0m\u001b[0m\n\u001b[1;32m    952\u001b[0m             \u001b[0mport\u001b[0m\u001b[0;34m,\u001b[0m\u001b[0;34m\u001b[0m\u001b[0;34m\u001b[0m\u001b[0m\n",
      "\u001b[0;32m~/opt/anaconda3/lib/python3.9/site-packages/werkzeug/serving.py\u001b[0m in \u001b[0;36mmake_server\u001b[0;34m(host, port, app, threaded, processes, request_handler, passthrough_errors, ssl_context, fd)\u001b[0m\n\u001b[1;32m    780\u001b[0m         \u001b[0;32mraise\u001b[0m \u001b[0mValueError\u001b[0m\u001b[0;34m(\u001b[0m\u001b[0;34m\"cannot have a multithreaded and multi process server.\"\u001b[0m\u001b[0;34m)\u001b[0m\u001b[0;34m\u001b[0m\u001b[0;34m\u001b[0m\u001b[0m\n\u001b[1;32m    781\u001b[0m     \u001b[0;32melif\u001b[0m \u001b[0mthreaded\u001b[0m\u001b[0;34m:\u001b[0m\u001b[0;34m\u001b[0m\u001b[0;34m\u001b[0m\u001b[0m\n\u001b[0;32m--> 782\u001b[0;31m         return ThreadedWSGIServer(\n\u001b[0m\u001b[1;32m    783\u001b[0m             \u001b[0mhost\u001b[0m\u001b[0;34m,\u001b[0m \u001b[0mport\u001b[0m\u001b[0;34m,\u001b[0m \u001b[0mapp\u001b[0m\u001b[0;34m,\u001b[0m \u001b[0mrequest_handler\u001b[0m\u001b[0;34m,\u001b[0m \u001b[0mpassthrough_errors\u001b[0m\u001b[0;34m,\u001b[0m \u001b[0mssl_context\u001b[0m\u001b[0;34m,\u001b[0m \u001b[0mfd\u001b[0m\u001b[0;34m=\u001b[0m\u001b[0mfd\u001b[0m\u001b[0;34m\u001b[0m\u001b[0;34m\u001b[0m\u001b[0m\n\u001b[1;32m    784\u001b[0m         )\n",
      "\u001b[0;32m~/opt/anaconda3/lib/python3.9/site-packages/werkzeug/serving.py\u001b[0m in \u001b[0;36m__init__\u001b[0;34m(self, host, port, app, handler, passthrough_errors, ssl_context, fd)\u001b[0m\n\u001b[1;32m    686\u001b[0m                 \u001b[0mos\u001b[0m\u001b[0;34m.\u001b[0m\u001b[0munlink\u001b[0m\u001b[0;34m(\u001b[0m\u001b[0mserver_address\u001b[0m\u001b[0;34m)\u001b[0m\u001b[0;34m\u001b[0m\u001b[0;34m\u001b[0m\u001b[0m\n\u001b[1;32m    687\u001b[0m \u001b[0;34m\u001b[0m\u001b[0m\n\u001b[0;32m--> 688\u001b[0;31m         \u001b[0msuper\u001b[0m\u001b[0;34m(\u001b[0m\u001b[0;34m)\u001b[0m\u001b[0;34m.\u001b[0m\u001b[0m__init__\u001b[0m\u001b[0;34m(\u001b[0m\u001b[0mserver_address\u001b[0m\u001b[0;34m,\u001b[0m \u001b[0mhandler\u001b[0m\u001b[0;34m)\u001b[0m  \u001b[0;31m# type: ignore\u001b[0m\u001b[0;34m\u001b[0m\u001b[0;34m\u001b[0m\u001b[0m\n\u001b[0m\u001b[1;32m    689\u001b[0m \u001b[0;34m\u001b[0m\u001b[0m\n\u001b[1;32m    690\u001b[0m         \u001b[0mself\u001b[0m\u001b[0;34m.\u001b[0m\u001b[0mapp\u001b[0m \u001b[0;34m=\u001b[0m \u001b[0mapp\u001b[0m\u001b[0;34m\u001b[0m\u001b[0;34m\u001b[0m\u001b[0m\n",
      "\u001b[0;32m~/opt/anaconda3/lib/python3.9/socketserver.py\u001b[0m in \u001b[0;36m__init__\u001b[0;34m(self, server_address, RequestHandlerClass, bind_and_activate)\u001b[0m\n\u001b[1;32m    450\u001b[0m         \u001b[0;32mif\u001b[0m \u001b[0mbind_and_activate\u001b[0m\u001b[0;34m:\u001b[0m\u001b[0;34m\u001b[0m\u001b[0;34m\u001b[0m\u001b[0m\n\u001b[1;32m    451\u001b[0m             \u001b[0;32mtry\u001b[0m\u001b[0;34m:\u001b[0m\u001b[0;34m\u001b[0m\u001b[0;34m\u001b[0m\u001b[0m\n\u001b[0;32m--> 452\u001b[0;31m                 \u001b[0mself\u001b[0m\u001b[0;34m.\u001b[0m\u001b[0mserver_bind\u001b[0m\u001b[0;34m(\u001b[0m\u001b[0;34m)\u001b[0m\u001b[0;34m\u001b[0m\u001b[0;34m\u001b[0m\u001b[0m\n\u001b[0m\u001b[1;32m    453\u001b[0m                 \u001b[0mself\u001b[0m\u001b[0;34m.\u001b[0m\u001b[0mserver_activate\u001b[0m\u001b[0;34m(\u001b[0m\u001b[0;34m)\u001b[0m\u001b[0;34m\u001b[0m\u001b[0;34m\u001b[0m\u001b[0m\n\u001b[1;32m    454\u001b[0m             \u001b[0;32mexcept\u001b[0m\u001b[0;34m:\u001b[0m\u001b[0;34m\u001b[0m\u001b[0;34m\u001b[0m\u001b[0m\n",
      "\u001b[0;32m~/opt/anaconda3/lib/python3.9/http/server.py\u001b[0m in \u001b[0;36mserver_bind\u001b[0;34m(self)\u001b[0m\n\u001b[1;32m    136\u001b[0m     \u001b[0;32mdef\u001b[0m \u001b[0mserver_bind\u001b[0m\u001b[0;34m(\u001b[0m\u001b[0mself\u001b[0m\u001b[0;34m)\u001b[0m\u001b[0;34m:\u001b[0m\u001b[0;34m\u001b[0m\u001b[0;34m\u001b[0m\u001b[0m\n\u001b[1;32m    137\u001b[0m         \u001b[0;34m\"\"\"Override server_bind to store the server name.\"\"\"\u001b[0m\u001b[0;34m\u001b[0m\u001b[0;34m\u001b[0m\u001b[0m\n\u001b[0;32m--> 138\u001b[0;31m         \u001b[0msocketserver\u001b[0m\u001b[0;34m.\u001b[0m\u001b[0mTCPServer\u001b[0m\u001b[0;34m.\u001b[0m\u001b[0mserver_bind\u001b[0m\u001b[0;34m(\u001b[0m\u001b[0mself\u001b[0m\u001b[0;34m)\u001b[0m\u001b[0;34m\u001b[0m\u001b[0;34m\u001b[0m\u001b[0m\n\u001b[0m\u001b[1;32m    139\u001b[0m         \u001b[0mhost\u001b[0m\u001b[0;34m,\u001b[0m \u001b[0mport\u001b[0m \u001b[0;34m=\u001b[0m \u001b[0mself\u001b[0m\u001b[0;34m.\u001b[0m\u001b[0mserver_address\u001b[0m\u001b[0;34m[\u001b[0m\u001b[0;34m:\u001b[0m\u001b[0;36m2\u001b[0m\u001b[0;34m]\u001b[0m\u001b[0;34m\u001b[0m\u001b[0;34m\u001b[0m\u001b[0m\n\u001b[1;32m    140\u001b[0m         \u001b[0mself\u001b[0m\u001b[0;34m.\u001b[0m\u001b[0mserver_name\u001b[0m \u001b[0;34m=\u001b[0m \u001b[0msocket\u001b[0m\u001b[0;34m.\u001b[0m\u001b[0mgetfqdn\u001b[0m\u001b[0;34m(\u001b[0m\u001b[0mhost\u001b[0m\u001b[0;34m)\u001b[0m\u001b[0;34m\u001b[0m\u001b[0;34m\u001b[0m\u001b[0m\n",
      "\u001b[0;32m~/opt/anaconda3/lib/python3.9/socketserver.py\u001b[0m in \u001b[0;36mserver_bind\u001b[0;34m(self)\u001b[0m\n\u001b[1;32m    464\u001b[0m         \u001b[0;32mif\u001b[0m \u001b[0mself\u001b[0m\u001b[0;34m.\u001b[0m\u001b[0mallow_reuse_address\u001b[0m\u001b[0;34m:\u001b[0m\u001b[0;34m\u001b[0m\u001b[0;34m\u001b[0m\u001b[0m\n\u001b[1;32m    465\u001b[0m             \u001b[0mself\u001b[0m\u001b[0;34m.\u001b[0m\u001b[0msocket\u001b[0m\u001b[0;34m.\u001b[0m\u001b[0msetsockopt\u001b[0m\u001b[0;34m(\u001b[0m\u001b[0msocket\u001b[0m\u001b[0;34m.\u001b[0m\u001b[0mSOL_SOCKET\u001b[0m\u001b[0;34m,\u001b[0m \u001b[0msocket\u001b[0m\u001b[0;34m.\u001b[0m\u001b[0mSO_REUSEADDR\u001b[0m\u001b[0;34m,\u001b[0m \u001b[0;36m1\u001b[0m\u001b[0;34m)\u001b[0m\u001b[0;34m\u001b[0m\u001b[0;34m\u001b[0m\u001b[0m\n\u001b[0;32m--> 466\u001b[0;31m         \u001b[0mself\u001b[0m\u001b[0;34m.\u001b[0m\u001b[0msocket\u001b[0m\u001b[0;34m.\u001b[0m\u001b[0mbind\u001b[0m\u001b[0;34m(\u001b[0m\u001b[0mself\u001b[0m\u001b[0;34m.\u001b[0m\u001b[0mserver_address\u001b[0m\u001b[0;34m)\u001b[0m\u001b[0;34m\u001b[0m\u001b[0;34m\u001b[0m\u001b[0m\n\u001b[0m\u001b[1;32m    467\u001b[0m         \u001b[0mself\u001b[0m\u001b[0;34m.\u001b[0m\u001b[0mserver_address\u001b[0m \u001b[0;34m=\u001b[0m \u001b[0mself\u001b[0m\u001b[0;34m.\u001b[0m\u001b[0msocket\u001b[0m\u001b[0;34m.\u001b[0m\u001b[0mgetsockname\u001b[0m\u001b[0;34m(\u001b[0m\u001b[0;34m)\u001b[0m\u001b[0;34m\u001b[0m\u001b[0;34m\u001b[0m\u001b[0m\n\u001b[1;32m    468\u001b[0m \u001b[0;34m\u001b[0m\u001b[0m\n",
      "\u001b[0;31mOSError\u001b[0m: [Errno 48] Address already in use"
     ]
    }
   ],
   "source": [
    "\n",
    "# Indicator Graph-----------------------------------------------------------\n",
    "\n",
    "\n",
    "@app.callback(\n",
    "    Output('indicator-graph', 'figure'),\n",
    "    Input('update', 'n_intervals')\n",
    ")\n",
    "def update_graph(timer):\n",
    "    dff_rv = dff.iloc[::-1]\n",
    "    day_start = dff_rv[dff_rv['date'] == dff_rv['date'].min()]['rate'].values[0]\n",
    "    day_end = dff_rv[dff_rv['date'] == dff_rv['date'].max()]['rate'].values[0]\n",
    "\n",
    "    fig = go.Figure(go.Indicator(\n",
    "        mode=\"delta\",\n",
    "        value=day_end,\n",
    "        delta={'reference': day_start, 'relative': True, 'valueformat':'.2%'}))\n",
    "    fig.update_traces(delta_font={'size':12})\n",
    "    fig.update_layout(height=30, width=70)\n",
    "\n",
    "    if day_end >= day_start:\n",
    "        fig.update_traces(delta_increasing_color='green')\n",
    "    elif day_end < day_start:\n",
    "        fig.update_traces(delta_decreasing_color='red')\n",
    "\n",
    "    return fig\n",
    "\n",
    "\n",
    "# Line Graph---------------------------------------------------------------\n",
    "@app.callback(\n",
    "    Output('daily-line', 'figure'),\n",
    "    Input('update', 'n_intervals')\n",
    ")\n",
    "def update_graph(timer):\n",
    "    dff_rv = dff.iloc[::-1]\n",
    "    fig = px.line(dff_rv, x='date', y='rate',\n",
    "                   range_y=[dff_rv['rate'].min(), dff_rv['rate'].max()],\n",
    "                   height=120).update_layout(margin=dict(t=0, r=0, l=0, b=20),\n",
    "                                             paper_bgcolor='rgba(0,0,0,0)',\n",
    "                                             plot_bgcolor='rgba(0,0,0,0)',\n",
    "                                             yaxis=dict(\n",
    "                                             title=None,\n",
    "                                             showgrid=False,\n",
    "                                             showticklabels=False\n",
    "                                             ),\n",
    "                                             xaxis=dict(\n",
    "                                             title=None,\n",
    "                                             showgrid=False,\n",
    "                                             showticklabels=False\n",
    "                                             ))\n",
    "\n",
    "    day_start = dff_rv[dff_rv['date'] == dff_rv['date'].min()]['rate'].values[0]\n",
    "    day_end = dff_rv[dff_rv['date'] == dff_rv['date'].max()]['rate'].values[0]\n",
    "\n",
    "    if day_end >= day_start:\n",
    "        return fig.update_traces(fill='tozeroy',line={'color':'green'})\n",
    "    elif day_end < day_start:\n",
    "        return fig.update_traces(fill='tozeroy',line={'color': 'red'})\n",
    "    \n",
    "    \n",
    "    \n",
    "# Below the buttons--------------------------------------------------------\n",
    "# This section styles the part of the dashboard below the button.\n",
    "\n",
    "@app.callback(\n",
    "    Output('high-price', 'children'),\n",
    "    Output('high-price', 'className'),\n",
    "    Input('update', 'n_intervals')\n",
    ")\n",
    "def update_graph(timer):\n",
    "    if timer ==0:\n",
    "        dff_filtered = dff.iloc[[21,22]]\n",
    "        print(dff_filtered)\n",
    "    elif timer == 1:\n",
    "        dff_filtered = dff.iloc[[20,21]]\n",
    "        print(dff_filtered)\n",
    "    elif timer == 2:\n",
    "        dff_filtered = dff.iloc[[19,20]]\n",
    "        print(dff_filtered)\n",
    "    elif timer == 3:\n",
    "        dff_filtered = dff.iloc[[18,19]]\n",
    "        print(dff_filtered)\n",
    "    elif timer == 4:\n",
    "        dff_filtered = dff.iloc[[17,18]]\n",
    "        print(dff_filtered)\n",
    "    elif timer == 5:\n",
    "        dff_filtered = dff.iloc[[16,17]]\n",
    "        print(dff_filtered)\n",
    "    elif timer > 5:\n",
    "        return dash.no_update\n",
    "\n",
    "    recent_high = dff_filtered['rate'].iloc[0]\n",
    "    older_high = dff_filtered['rate'].iloc[1]\n",
    "\n",
    "#the following block of codes decide when the colour of the plot changes.\n",
    "\n",
    "    if recent_high > older_high:\n",
    "        return recent_high, \"mt-2 bg-success text-white p-1 border border-primary border-top-0\"\n",
    "    elif recent_high == older_high:\n",
    "        return recent_high, \"mt-2 bg-white p-1 border border-primary border-top-0\"\n",
    "    elif recent_high < older_high:\n",
    "        return recent_high, \"mt-2 bg-danger text-white p-1 border border-primary border-top-0\"\n",
    "    \n",
    "\n",
    "if __name__=='__main__':\n",
    "    app.run_server(debug = False, port=8000)"
   ]
  },
  {
   "cell_type": "code",
   "execution_count": null,
   "id": "6c0a5871",
   "metadata": {},
   "outputs": [],
   "source": []
  }
 ],
 "metadata": {
  "kernelspec": {
   "display_name": "Python 3 (ipykernel)",
   "language": "python",
   "name": "python3"
  },
  "language_info": {
   "codemirror_mode": {
    "name": "ipython",
    "version": 3
   },
   "file_extension": ".py",
   "mimetype": "text/x-python",
   "name": "python",
   "nbconvert_exporter": "python",
   "pygments_lexer": "ipython3",
   "version": "3.9.7"
  }
 },
 "nbformat": 4,
 "nbformat_minor": 5
}
